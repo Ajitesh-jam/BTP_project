{
 "cells": [
  {
   "cell_type": "code",
   "execution_count": 3,
   "id": "e5f53954",
   "metadata": {},
   "outputs": [],
   "source": [
    "\n",
    "import os\n",
    "import numpy as np\n",
    "import pandas as pd\n",
    "import librosa\n",
    "import tensorflow as tf\n",
    "import resampy\n",
    "from sklearn.model_selection import train_test_split\n",
    "from sklearn.preprocessing import LabelEncoder\n",
    "from tensorflow.keras.models import Sequential\n",
    "from tensorflow.keras.layers import Dense, Dropout, Conv2D, MaxPooling2D, Flatten\n",
    "from tensorflow.keras.utils import to_categorical\n",
    "\n",
    "# --- Configuration ---\n",
    "DATA_DIR = './Dataset'\n",
    "TARGET_DURATION = 5.0\n",
    "MAX_PAD_LEN = 216 # Spectrogram length for a 5-second clip at 22050 Hz"
   ]
  },
  {
   "cell_type": "code",
   "execution_count": null,
   "id": "52dc0f68",
   "metadata": {},
   "outputs": [],
   "source": [
    "def extractFeature(file_path):\n",
    "    print(f\"Processing file: {file_path}\")\n",
    "    try:\n",
    "        # Load the audio file. librosa automatically normalizes the amplitude.\n",
    "        audio, sample_rate = librosa.load(file_path, res_type='kaiser_fast')\n",
    "        audio_duration = librosa.get_duration(y=audio, sr=sample_rate)\n",
    "        if audio_duration > TARGET_DURATION:\n",
    "            # If audio is longer than target, take a clip from the middle\n",
    "            start = int((audio_duration - TARGET_DURATION) / 2 * sample_rate)\n",
    "            end = start + int(TARGET_DURATION * sample_rate)\n",
    "            audio = audio[start:end]\n",
    "            print(f\"  - Original duration: {audio_duration:.2f}s. Truncated to middle {TARGET_DURATION}s.\")\n",
    "\n",
    "        \n",
    "        mfccs = librosa.feature.mfcc(y=audio, sr=sr, n_mfcc=13)\n",
    "        mfccs = np.mean(mfccs.T, axis=0)\n",
    "        return mfccs\n",
    "    except Exception as e:\n",
    "        print(f\"Error processing {file_path}: {e}\")\n",
    "        return None"
   ]
  }
 ],
 "metadata": {
  "kernelspec": {
   "display_name": ".venv (3.13.5)",
   "language": "python",
   "name": "python3"
  },
  "language_info": {
   "codemirror_mode": {
    "name": "ipython",
    "version": 3
   },
   "file_extension": ".py",
   "mimetype": "text/x-python",
   "name": "python",
   "nbconvert_exporter": "python",
   "pygments_lexer": "ipython3",
   "version": "3.13.5"
  }
 },
 "nbformat": 4,
 "nbformat_minor": 5
}
